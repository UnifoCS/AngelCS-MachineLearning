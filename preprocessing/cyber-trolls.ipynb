{
 "cells": [
  {
   "cell_type": "code",
   "execution_count": 2,
   "metadata": {},
   "outputs": [],
   "source": [
    "import pandas as pd\n",
    "import json"
   ]
  },
  {
   "cell_type": "code",
   "execution_count": 4,
   "metadata": {},
   "outputs": [],
   "source": [
    "with open(\"../raw/cyber-trolls.json\") as f:\n",
    "    items = f.readlines()\n",
    "    items = [json.loads(x) for x in items]\n"
   ]
  },
  {
   "cell_type": "code",
   "execution_count": 5,
   "metadata": {
    "scrolled": true
   },
   "outputs": [
    {
     "data": {
      "text/plain": [
       "[{'content': 'Get fucking real dude.',\n",
       "  'annotation': {'notes': '', 'label': ['1']},\n",
       "  'extras': None,\n",
       "  'metadata': {'first_done_at': 1527503426000,\n",
       "   'last_updated_at': 1527503426000,\n",
       "   'sec_taken': 0,\n",
       "   'last_updated_by': 'jI67aE5hwwdh6l16bcfFVnpyREd2',\n",
       "   'status': 'done',\n",
       "   'evaluation': 'NONE'}},\n",
       " {'content': \"She is as dirty as they come  and that crook Rengel  the Dems are so fucking corrupt it's a joke. Make Republicans look like  ...\",\n",
       "  'annotation': {'notes': '', 'label': ['1']},\n",
       "  'extras': None,\n",
       "  'metadata': {'first_done_at': 1527503426000,\n",
       "   'last_updated_at': 1527503426000,\n",
       "   'sec_taken': 0,\n",
       "   'last_updated_by': 'jI67aE5hwwdh6l16bcfFVnpyREd2',\n",
       "   'status': 'done',\n",
       "   'evaluation': 'NONE'}},\n",
       " {'content': \"why did you fuck it up. I could do it all day too. Let's do it when you have an hour. Ping me later to sched writing a book here.\",\n",
       "  'annotation': {'notes': '', 'label': ['1']},\n",
       "  'extras': None,\n",
       "  'metadata': {'first_done_at': 1527503426000,\n",
       "   'last_updated_at': 1527503426000,\n",
       "   'sec_taken': 0,\n",
       "   'last_updated_by': 'jI67aE5hwwdh6l16bcfFVnpyREd2',\n",
       "   'status': 'done',\n",
       "   'evaluation': 'NONE'}}]"
      ]
     },
     "execution_count": 5,
     "metadata": {},
     "output_type": "execute_result"
    }
   ],
   "source": [
    "items[:3]"
   ]
  },
  {
   "cell_type": "code",
   "execution_count": 6,
   "metadata": {},
   "outputs": [],
   "source": [
    "items = [(x['content'], x['annotation']['label'][0]) for x in items]"
   ]
  },
  {
   "cell_type": "code",
   "execution_count": 7,
   "metadata": {},
   "outputs": [
    {
     "data": {
      "text/plain": [
       "[('Get fucking real dude.', '1'),\n",
       " (\"She is as dirty as they come  and that crook Rengel  the Dems are so fucking corrupt it's a joke. Make Republicans look like  ...\",\n",
       "  '1'),\n",
       " (\"why did you fuck it up. I could do it all day too. Let's do it when you have an hour. Ping me later to sched writing a book here.\",\n",
       "  '1'),\n",
       " ('Dude they dont finish enclosing the fucking showers. I hate half assed jobs. Whats the reasononing behind it? Makes no sense.',\n",
       "  '1'),\n",
       " (\"WTF are you talking about Men? No men thats not a menage  that's just gay.\",\n",
       "  '1')]"
      ]
     },
     "execution_count": 7,
     "metadata": {},
     "output_type": "execute_result"
    }
   ],
   "source": [
    "items[:5]"
   ]
  },
  {
   "cell_type": "code",
   "execution_count": 8,
   "metadata": {},
   "outputs": [],
   "source": [
    "df = pd.DataFrame(items)"
   ]
  },
  {
   "cell_type": "code",
   "execution_count": 10,
   "metadata": {},
   "outputs": [],
   "source": [
    "df.to_csv('../raw/cyber-trolls.csv', index=None,header=None)"
   ]
  },
  {
   "cell_type": "code",
   "execution_count": 11,
   "metadata": {},
   "outputs": [],
   "source": [
    "with open('../raw/cyber-trolls-blobs.json', 'w') as f:\n",
    "    jl = [{'text': x[0], 'label': str(x[1])} for x in df.itertuples(index=False)]\n",
    "    f.write(json.dumps(jl, indent=4))"
   ]
  },
  {
   "cell_type": "code",
   "execution_count": null,
   "metadata": {},
   "outputs": [],
   "source": []
  }
 ],
 "metadata": {
  "kernelspec": {
   "display_name": "Python 3",
   "language": "python",
   "name": "python3"
  },
  "language_info": {
   "codemirror_mode": {
    "name": "ipython",
    "version": 3
   },
   "file_extension": ".py",
   "mimetype": "text/x-python",
   "name": "python",
   "nbconvert_exporter": "python",
   "pygments_lexer": "ipython3",
   "version": "3.6.4"
  }
 },
 "nbformat": 4,
 "nbformat_minor": 2
}
