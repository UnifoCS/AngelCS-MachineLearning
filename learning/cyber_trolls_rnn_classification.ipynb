{
 "cells": [
  {
   "cell_type": "code",
   "execution_count": 0,
   "metadata": {
    "colab": {
     "base_uri": "https://localhost:8080/",
     "height": 33
    },
    "colab_type": "code",
    "id": "_Sz8Lw9i7BMl",
    "outputId": "dd6c84bd-f78a-4ce1-a72b-4cdfbdd0da58"
   },
   "outputs": [
    {
     "name": "stdout",
     "output_type": "stream",
     "text": [
      "Drive already mounted at /content/gdrive; to attempt to forcibly remount, call drive.mount(\"/content/gdrive\", force_remount=True).\n"
     ]
    }
   ],
   "source": [
    "from google.colab import drive\n",
    "drive.mount('/content/gdrive')"
   ]
  },
  {
   "cell_type": "code",
   "execution_count": 0,
   "metadata": {
    "colab": {},
    "colab_type": "code",
    "id": "r7_WGIeb6QZw"
   },
   "outputs": [],
   "source": [
    "from sklearn.model_selection import train_test_split\n",
    "from sklearn.feature_extraction.text import CountVectorizer\n",
    "\n",
    "import pandas as pd\n",
    "import tensorflow as tf\n",
    "import nltk\n",
    "\n",
    "import numpy as np\n",
    "\n",
    "import keras\n",
    "from keras.preprocessing.text import one_hot\n",
    "from keras.preprocessing.sequence import pad_sequences\n",
    "from keras.models import Sequential\n",
    "from keras.layers import Dense, Flatten, GlobalAveragePooling1D, Embedding"
   ]
  },
  {
   "cell_type": "code",
   "execution_count": 0,
   "metadata": {
    "colab": {},
    "colab_type": "code",
    "id": "emVDqnnt64cs"
   },
   "outputs": [],
   "source": [
    "dataset_filename = \"../raw/cyber-trolls.csv\""
   ]
  },
  {
   "cell_type": "code",
   "execution_count": 0,
   "metadata": {
    "colab": {
     "base_uri": "https://localhost:8080/",
     "height": 197
    },
    "colab_type": "code",
    "id": "aq8Qr9xL7csX",
    "outputId": "6df9b863-26f7-404a-9f5d-4189cb441fc6"
   },
   "outputs": [
    {
     "data": {
      "text/html": [
       "<div>\n",
       "<style scoped>\n",
       "    .dataframe tbody tr th:only-of-type {\n",
       "        vertical-align: middle;\n",
       "    }\n",
       "\n",
       "    .dataframe tbody tr th {\n",
       "        vertical-align: top;\n",
       "    }\n",
       "\n",
       "    .dataframe thead th {\n",
       "        text-align: right;\n",
       "    }\n",
       "</style>\n",
       "<table border=\"1\" class=\"dataframe\">\n",
       "  <thead>\n",
       "    <tr style=\"text-align: right;\">\n",
       "      <th></th>\n",
       "      <th>0</th>\n",
       "      <th>1</th>\n",
       "    </tr>\n",
       "  </thead>\n",
       "  <tbody>\n",
       "    <tr>\n",
       "      <th>0</th>\n",
       "      <td>Get fucking real dude.</td>\n",
       "      <td>1</td>\n",
       "    </tr>\n",
       "    <tr>\n",
       "      <th>1</th>\n",
       "      <td>She is as dirty as they come  and that crook R...</td>\n",
       "      <td>1</td>\n",
       "    </tr>\n",
       "    <tr>\n",
       "      <th>2</th>\n",
       "      <td>why did you fuck it up. I could do it all day ...</td>\n",
       "      <td>1</td>\n",
       "    </tr>\n",
       "    <tr>\n",
       "      <th>3</th>\n",
       "      <td>Dude they dont finish enclosing the fucking sh...</td>\n",
       "      <td>1</td>\n",
       "    </tr>\n",
       "    <tr>\n",
       "      <th>4</th>\n",
       "      <td>WTF are you talking about Men? No men thats no...</td>\n",
       "      <td>1</td>\n",
       "    </tr>\n",
       "  </tbody>\n",
       "</table>\n",
       "</div>"
      ],
      "text/plain": [
       "                                                   0  1\n",
       "0                             Get fucking real dude.  1\n",
       "1  She is as dirty as they come  and that crook R...  1\n",
       "2  why did you fuck it up. I could do it all day ...  1\n",
       "3  Dude they dont finish enclosing the fucking sh...  1\n",
       "4  WTF are you talking about Men? No men thats no...  1"
      ]
     },
     "execution_count": 116,
     "metadata": {
      "tags": []
     },
     "output_type": "execute_result"
    }
   ],
   "source": [
    "df = pd.read_csv(dataset_filename, header=None)\n",
    "df.head()"
   ]
  },
  {
   "cell_type": "markdown",
   "metadata": {
    "colab_type": "text",
    "id": "WPhMqFOP8onD"
   },
   "source": [
    "# Preproceessing Part"
   ]
  },
  {
   "cell_type": "code",
   "execution_count": 0,
   "metadata": {
    "colab": {},
    "colab_type": "code",
    "id": "9-KsBYs1Go2x"
   },
   "outputs": [],
   "source": [
    "texts = np.asarray(df[0])\n",
    "labels = np.asarray(df[1])"
   ]
  },
  {
   "cell_type": "code",
   "execution_count": 0,
   "metadata": {
    "colab": {},
    "colab_type": "code",
    "id": "0MVmvU8xHz4G"
   },
   "outputs": [],
   "source": [
    "X_train, X_test, y_train, y_test = train_test_split(texts, labels, test_size = 0.20)"
   ]
  },
  {
   "cell_type": "code",
   "execution_count": 0,
   "metadata": {
    "colab": {},
    "colab_type": "code",
    "id": "9Ldwke1MH3pV"
   },
   "outputs": [],
   "source": [
    "vocab_size=10000\n",
    "\n",
    "def norm(text):\n",
    "  return one_hot(text, vocab_size, filters='!\"#$%&()*+,-./:;<=>?@[\\]^_`{|}~', lower=True, split=' ')\n",
    "\n",
    "X_train = [norm(x) for x in X_train]\n",
    "X_test = [norm(x) for x in X_test]"
   ]
  },
  {
   "cell_type": "code",
   "execution_count": 0,
   "metadata": {
    "colab": {},
    "colab_type": "code",
    "id": "dx6YpYjxIbQg"
   },
   "outputs": [],
   "source": [
    "max_length = 256\n",
    "X_train = pad_sequences(X_train, maxlen=max_length, padding='pre')\n",
    "X_test = pad_sequences(X_test, maxlen=max_length, padding='pre')\n"
   ]
  },
  {
   "cell_type": "markdown",
   "metadata": {
    "colab_type": "text",
    "id": "KdhJ6Ifzeovd"
   },
   "source": [
    "# Modeling"
   ]
  },
  {
   "cell_type": "code",
   "execution_count": 0,
   "metadata": {
    "colab": {
     "base_uri": "https://localhost:8080/",
     "height": 370
    },
    "colab_type": "code",
    "id": "eH8KtJAaep39",
    "outputId": "4941226e-97ae-4683-cde9-90efe9ee8d67"
   },
   "outputs": [
    {
     "name": "stdout",
     "output_type": "stream",
     "text": [
      "WARNING:tensorflow:From /usr/local/lib/python3.6/dist-packages/keras/backend/tensorflow_backend.py:541: The name tf.placeholder is deprecated. Please use tf.compat.v1.placeholder instead.\n",
      "\n",
      "WARNING:tensorflow:From /usr/local/lib/python3.6/dist-packages/keras/backend/tensorflow_backend.py:4432: The name tf.random_uniform is deprecated. Please use tf.random.uniform instead.\n",
      "\n",
      "Model: \"sequential_1\"\n",
      "_________________________________________________________________\n",
      "Layer (type)                 Output Shape              Param #   \n",
      "=================================================================\n",
      "embedding_2 (Embedding)      (None, None, 16)          160000    \n",
      "_________________________________________________________________\n",
      "global_average_pooling1d_1 ( (None, 16)                0         \n",
      "_________________________________________________________________\n",
      "dense_1 (Dense)              (None, 16)                272       \n",
      "_________________________________________________________________\n",
      "dense_2 (Dense)              (None, 1)                 17        \n",
      "=================================================================\n",
      "Total params: 160,289\n",
      "Trainable params: 160,289\n",
      "Non-trainable params: 0\n",
      "_________________________________________________________________\n"
     ]
    }
   ],
   "source": [
    "model = keras.Sequential()\n",
    "model.add(Embedding(vocab_size, 32, input_shape=(None,)))\n",
    "model.add(GlobalAveragePooling1D())\n",
    "model.add(Dense(16, activation='relu'))\n",
    "model.add(Dense(1, activation='sigmoid'))\n",
    "\n",
    "model.summary()"
   ]
  },
  {
   "cell_type": "code",
   "execution_count": 0,
   "metadata": {
    "colab": {},
    "colab_type": "code",
    "id": "6ko5dJOOfWsK"
   },
   "outputs": [],
   "source": [
    "model.compile(optimizer='adam',\n",
    "              loss='binary_crossentropy',\n",
    "              metrics=['accuracy'])"
   ]
  },
  {
   "cell_type": "code",
   "execution_count": 0,
   "metadata": {
    "colab": {
     "base_uri": "https://localhost:8080/",
     "height": 1000
    },
    "colab_type": "code",
    "id": "nyrKJuUoftY6",
    "outputId": "06fc9364-b68d-4efb-ec12-4c9fddb01e69"
   },
   "outputs": [
    {
     "name": "stdout",
     "output_type": "stream",
     "text": [
      "Epoch 1/100\n",
      "16000/16000 [==============================] - 1s 50us/step - loss: 0.3444 - acc: 0.8530\n",
      "Epoch 2/100\n",
      "16000/16000 [==============================] - 1s 49us/step - loss: 0.3390 - acc: 0.8567\n",
      "Epoch 3/100\n",
      "16000/16000 [==============================] - 1s 48us/step - loss: 0.3359 - acc: 0.8563\n",
      "Epoch 4/100\n",
      "16000/16000 [==============================] - 1s 50us/step - loss: 0.3325 - acc: 0.8611\n",
      "Epoch 5/100\n",
      "16000/16000 [==============================] - 1s 49us/step - loss: 0.3302 - acc: 0.8599\n",
      "Epoch 6/100\n",
      "16000/16000 [==============================] - 1s 49us/step - loss: 0.3262 - acc: 0.8631\n",
      "Epoch 7/100\n",
      "16000/16000 [==============================] - 1s 51us/step - loss: 0.3227 - acc: 0.8639\n",
      "Epoch 8/100\n",
      "16000/16000 [==============================] - 1s 48us/step - loss: 0.3205 - acc: 0.8653\n",
      "Epoch 9/100\n",
      "16000/16000 [==============================] - 1s 49us/step - loss: 0.3174 - acc: 0.8666\n",
      "Epoch 10/100\n",
      "16000/16000 [==============================] - 1s 51us/step - loss: 0.3146 - acc: 0.8683\n",
      "Epoch 11/100\n",
      "16000/16000 [==============================] - 1s 53us/step - loss: 0.3119 - acc: 0.8701\n",
      "Epoch 12/100\n",
      "16000/16000 [==============================] - 1s 50us/step - loss: 0.3085 - acc: 0.8717\n",
      "Epoch 13/100\n",
      "16000/16000 [==============================] - 1s 50us/step - loss: 0.3052 - acc: 0.8736\n",
      "Epoch 14/100\n",
      "16000/16000 [==============================] - 1s 50us/step - loss: 0.3038 - acc: 0.8741\n",
      "Epoch 15/100\n",
      "16000/16000 [==============================] - 1s 51us/step - loss: 0.3011 - acc: 0.8748\n",
      "Epoch 16/100\n",
      "16000/16000 [==============================] - 1s 51us/step - loss: 0.2972 - acc: 0.8771\n",
      "Epoch 17/100\n",
      "16000/16000 [==============================] - 1s 48us/step - loss: 0.2954 - acc: 0.8796\n",
      "Epoch 18/100\n",
      "16000/16000 [==============================] - 1s 50us/step - loss: 0.2930 - acc: 0.8805\n",
      "Epoch 19/100\n",
      "16000/16000 [==============================] - 1s 50us/step - loss: 0.2903 - acc: 0.8817\n",
      "Epoch 20/100\n",
      "16000/16000 [==============================] - 1s 50us/step - loss: 0.2887 - acc: 0.8832\n",
      "Epoch 21/100\n",
      "16000/16000 [==============================] - 1s 49us/step - loss: 0.2857 - acc: 0.8848\n",
      "Epoch 22/100\n",
      "16000/16000 [==============================] - 1s 50us/step - loss: 0.2833 - acc: 0.8850\n",
      "Epoch 23/100\n",
      "16000/16000 [==============================] - 1s 49us/step - loss: 0.2827 - acc: 0.8859\n",
      "Epoch 24/100\n",
      "16000/16000 [==============================] - 1s 50us/step - loss: 0.2805 - acc: 0.8860\n",
      "Epoch 25/100\n",
      "16000/16000 [==============================] - 1s 50us/step - loss: 0.2779 - acc: 0.8886\n",
      "Epoch 26/100\n",
      "16000/16000 [==============================] - 1s 50us/step - loss: 0.2750 - acc: 0.8881\n",
      "Epoch 27/100\n",
      "16000/16000 [==============================] - 1s 49us/step - loss: 0.2743 - acc: 0.8912\n",
      "Epoch 28/100\n",
      "16000/16000 [==============================] - 1s 50us/step - loss: 0.2698 - acc: 0.8925\n",
      "Epoch 29/100\n",
      "16000/16000 [==============================] - 1s 51us/step - loss: 0.2687 - acc: 0.8921\n",
      "Epoch 30/100\n",
      "16000/16000 [==============================] - 1s 50us/step - loss: 0.2687 - acc: 0.8904\n",
      "Epoch 31/100\n",
      "16000/16000 [==============================] - 1s 50us/step - loss: 0.2671 - acc: 0.8930\n",
      "Epoch 32/100\n",
      "16000/16000 [==============================] - 1s 49us/step - loss: 0.2618 - acc: 0.8967\n",
      "Epoch 33/100\n",
      "16000/16000 [==============================] - 1s 50us/step - loss: 0.2626 - acc: 0.8946\n",
      "Epoch 34/100\n",
      "16000/16000 [==============================] - 1s 49us/step - loss: 0.2591 - acc: 0.8964\n",
      "Epoch 35/100\n",
      "16000/16000 [==============================] - 1s 48us/step - loss: 0.2585 - acc: 0.8966\n",
      "Epoch 36/100\n",
      "16000/16000 [==============================] - 1s 51us/step - loss: 0.2574 - acc: 0.8989\n",
      "Epoch 37/100\n",
      "16000/16000 [==============================] - 1s 52us/step - loss: 0.2548 - acc: 0.8971\n",
      "Epoch 38/100\n",
      "16000/16000 [==============================] - 1s 51us/step - loss: 0.2547 - acc: 0.8998\n",
      "Epoch 39/100\n",
      "16000/16000 [==============================] - 1s 50us/step - loss: 0.2511 - acc: 0.9016\n",
      "Epoch 40/100\n",
      "16000/16000 [==============================] - 1s 48us/step - loss: 0.2499 - acc: 0.9014\n",
      "Epoch 41/100\n",
      "16000/16000 [==============================] - 1s 50us/step - loss: 0.2490 - acc: 0.9018\n",
      "Epoch 42/100\n",
      "16000/16000 [==============================] - 1s 50us/step - loss: 0.2460 - acc: 0.9034\n",
      "Epoch 43/100\n",
      "16000/16000 [==============================] - 1s 48us/step - loss: 0.2451 - acc: 0.9038\n",
      "Epoch 44/100\n",
      "16000/16000 [==============================] - 1s 50us/step - loss: 0.2428 - acc: 0.9062\n",
      "Epoch 45/100\n",
      "16000/16000 [==============================] - 1s 49us/step - loss: 0.2435 - acc: 0.9051\n",
      "Epoch 46/100\n",
      "16000/16000 [==============================] - 1s 50us/step - loss: 0.2399 - acc: 0.9067\n",
      "Epoch 47/100\n",
      "16000/16000 [==============================] - 1s 50us/step - loss: 0.2393 - acc: 0.9059\n",
      "Epoch 48/100\n",
      "16000/16000 [==============================] - 1s 49us/step - loss: 0.2369 - acc: 0.9080\n",
      "Epoch 49/100\n",
      "16000/16000 [==============================] - 1s 52us/step - loss: 0.2372 - acc: 0.9070\n",
      "Epoch 50/100\n",
      "16000/16000 [==============================] - 1s 51us/step - loss: 0.2349 - acc: 0.9088\n",
      "Epoch 51/100\n",
      "16000/16000 [==============================] - 1s 52us/step - loss: 0.2341 - acc: 0.9105\n",
      "Epoch 52/100\n",
      "16000/16000 [==============================] - 1s 49us/step - loss: 0.2324 - acc: 0.9100\n",
      "Epoch 53/100\n",
      "16000/16000 [==============================] - 1s 50us/step - loss: 0.2323 - acc: 0.9094\n",
      "Epoch 54/100\n",
      "16000/16000 [==============================] - 1s 51us/step - loss: 0.2285 - acc: 0.9136\n",
      "Epoch 55/100\n",
      "16000/16000 [==============================] - 1s 49us/step - loss: 0.2291 - acc: 0.9105\n",
      "Epoch 56/100\n",
      "16000/16000 [==============================] - 1s 50us/step - loss: 0.2291 - acc: 0.9113\n",
      "Epoch 57/100\n",
      "16000/16000 [==============================] - 1s 51us/step - loss: 0.2252 - acc: 0.9134\n",
      "Epoch 58/100\n",
      "16000/16000 [==============================] - 1s 50us/step - loss: 0.2240 - acc: 0.9144\n",
      "Epoch 59/100\n",
      "16000/16000 [==============================] - 1s 49us/step - loss: 0.2221 - acc: 0.9142\n",
      "Epoch 60/100\n",
      "16000/16000 [==============================] - 1s 49us/step - loss: 0.2222 - acc: 0.9146\n",
      "Epoch 61/100\n",
      "16000/16000 [==============================] - 1s 50us/step - loss: 0.2201 - acc: 0.9167\n",
      "Epoch 62/100\n",
      "16000/16000 [==============================] - 1s 50us/step - loss: 0.2202 - acc: 0.9154\n",
      "Epoch 63/100\n",
      "16000/16000 [==============================] - 1s 51us/step - loss: 0.2178 - acc: 0.9183\n",
      "Epoch 64/100\n",
      "16000/16000 [==============================] - 1s 49us/step - loss: 0.2175 - acc: 0.9177\n",
      "Epoch 65/100\n",
      "16000/16000 [==============================] - 1s 50us/step - loss: 0.2161 - acc: 0.9161\n",
      "Epoch 66/100\n",
      "16000/16000 [==============================] - 1s 50us/step - loss: 0.2152 - acc: 0.9170\n",
      "Epoch 67/100\n",
      "16000/16000 [==============================] - 1s 48us/step - loss: 0.2146 - acc: 0.9182\n",
      "Epoch 68/100\n",
      "16000/16000 [==============================] - 1s 49us/step - loss: 0.2148 - acc: 0.9165\n",
      "Epoch 69/100\n",
      "16000/16000 [==============================] - 1s 50us/step - loss: 0.2141 - acc: 0.9161\n",
      "Epoch 70/100\n",
      "16000/16000 [==============================] - 1s 49us/step - loss: 0.2108 - acc: 0.9203\n",
      "Epoch 71/100\n",
      "16000/16000 [==============================] - 1s 49us/step - loss: 0.2102 - acc: 0.9192\n",
      "Epoch 72/100\n",
      "16000/16000 [==============================] - 1s 49us/step - loss: 0.2089 - acc: 0.9203\n",
      "Epoch 73/100\n",
      "16000/16000 [==============================] - 1s 49us/step - loss: 0.2072 - acc: 0.9217\n",
      "Epoch 74/100\n",
      "16000/16000 [==============================] - 1s 50us/step - loss: 0.2066 - acc: 0.9211\n",
      "Epoch 75/100\n",
      "16000/16000 [==============================] - 1s 51us/step - loss: 0.2059 - acc: 0.9227\n",
      "Epoch 76/100\n",
      "16000/16000 [==============================] - 1s 50us/step - loss: 0.2055 - acc: 0.9224\n",
      "Epoch 77/100\n",
      "16000/16000 [==============================] - 1s 50us/step - loss: 0.2046 - acc: 0.9216\n",
      "Epoch 78/100\n",
      "16000/16000 [==============================] - 1s 50us/step - loss: 0.2035 - acc: 0.9235\n",
      "Epoch 79/100\n",
      "16000/16000 [==============================] - 1s 48us/step - loss: 0.2013 - acc: 0.9244\n",
      "Epoch 80/100\n",
      "16000/16000 [==============================] - 1s 48us/step - loss: 0.2009 - acc: 0.9226\n",
      "Epoch 81/100\n",
      "16000/16000 [==============================] - 1s 49us/step - loss: 0.1998 - acc: 0.9241\n",
      "Epoch 82/100\n",
      "16000/16000 [==============================] - 1s 48us/step - loss: 0.1994 - acc: 0.9237\n",
      "Epoch 83/100\n",
      "16000/16000 [==============================] - 1s 48us/step - loss: 0.1982 - acc: 0.9243\n",
      "Epoch 84/100\n",
      "16000/16000 [==============================] - 1s 49us/step - loss: 0.1970 - acc: 0.9244\n",
      "Epoch 85/100\n",
      "16000/16000 [==============================] - 1s 49us/step - loss: 0.1966 - acc: 0.9267\n",
      "Epoch 86/100\n",
      "16000/16000 [==============================] - 1s 48us/step - loss: 0.1972 - acc: 0.9244\n",
      "Epoch 87/100\n",
      "16000/16000 [==============================] - 1s 49us/step - loss: 0.1945 - acc: 0.9258\n",
      "Epoch 88/100\n",
      "16000/16000 [==============================] - 1s 48us/step - loss: 0.1930 - acc: 0.9283\n",
      "Epoch 89/100\n",
      "16000/16000 [==============================] - 1s 50us/step - loss: 0.1954 - acc: 0.9253\n",
      "Epoch 90/100\n",
      "16000/16000 [==============================] - 1s 48us/step - loss: 0.1927 - acc: 0.9301\n",
      "Epoch 91/100\n",
      "16000/16000 [==============================] - 1s 48us/step - loss: 0.1883 - acc: 0.9323\n",
      "Epoch 92/100\n",
      "16000/16000 [==============================] - 1s 48us/step - loss: 0.1901 - acc: 0.9295\n",
      "Epoch 93/100\n",
      "16000/16000 [==============================] - 1s 48us/step - loss: 0.1917 - acc: 0.9289\n",
      "Epoch 94/100\n",
      "16000/16000 [==============================] - 1s 48us/step - loss: 0.1891 - acc: 0.9311\n",
      "Epoch 95/100\n",
      "16000/16000 [==============================] - 1s 48us/step - loss: 0.1889 - acc: 0.9300\n",
      "Epoch 96/100\n",
      "16000/16000 [==============================] - 1s 48us/step - loss: 0.1875 - acc: 0.9298\n",
      "Epoch 97/100\n",
      "16000/16000 [==============================] - 1s 48us/step - loss: 0.1888 - acc: 0.9280\n",
      "Epoch 98/100\n",
      "16000/16000 [==============================] - 1s 50us/step - loss: 0.1850 - acc: 0.9318\n",
      "Epoch 99/100\n",
      "16000/16000 [==============================] - 1s 49us/step - loss: 0.1835 - acc: 0.9321\n",
      "Epoch 100/100\n",
      "16000/16000 [==============================] - 1s 50us/step - loss: 0.1846 - acc: 0.9313\n"
     ]
    },
    {
     "data": {
      "text/plain": [
       "<keras.callbacks.History at 0x7fae8a9d8550>"
      ]
     },
     "execution_count": 151,
     "metadata": {
      "tags": []
     },
     "output_type": "execute_result"
    }
   ],
   "source": [
    "model.fit(X_train,\n",
    "          y_train,\n",
    "          epochs=100,\n",
    "          batch_size=512,\n",
    "          verbose=1)"
   ]
  },
  {
   "cell_type": "code",
   "execution_count": 0,
   "metadata": {
    "colab": {
     "base_uri": "https://localhost:8080/",
     "height": 50
    },
    "colab_type": "code",
    "id": "3EiNPNsXf5eN",
    "outputId": "48e58d5b-af07-419e-eec3-388d1cd18b09"
   },
   "outputs": [
    {
     "name": "stdout",
     "output_type": "stream",
     "text": [
      "4001/4001 [==============================] - 0s 45us/step\n"
     ]
    },
    {
     "data": {
      "text/plain": [
       "[0.45798601133767974, 0.8222944263934017]"
      ]
     },
     "execution_count": 152,
     "metadata": {
      "tags": []
     },
     "output_type": "execute_result"
    }
   ],
   "source": [
    "results = model.evaluate(X_test, y_test)\n",
    "\n",
    "results"
   ]
  },
  {
   "cell_type": "code",
   "execution_count": 0,
   "metadata": {
    "colab": {
     "base_uri": "https://localhost:8080/",
     "height": 33
    },
    "colab_type": "code",
    "id": "repJdgP-gv7U",
    "outputId": "c01bb754-8a3a-44ab-c8db-a1479e5ab100"
   },
   "outputs": [
    {
     "data": {
      "text/plain": [
       "16000"
      ]
     },
     "execution_count": 153,
     "metadata": {
      "tags": []
     },
     "output_type": "execute_result"
    }
   ],
   "source": [
    "len(X_train)"
   ]
  },
  {
   "cell_type": "code",
   "execution_count": 0,
   "metadata": {
    "colab": {},
    "colab_type": "code",
    "id": "21_9foXkg0Xs"
   },
   "outputs": [],
   "source": []
  },
  {
   "cell_type": "markdown",
   "metadata": {
    "colab_type": "text",
    "id": "l8PyGpObhdfL"
   },
   "source": [
    "# Amazon Review Data에 Evaluate"
   ]
  },
  {
   "cell_type": "code",
   "execution_count": 0,
   "metadata": {
    "colab": {},
    "colab_type": "code",
    "id": "JvDex1jJhgHT"
   },
   "outputs": [],
   "source": [
    "review = pd.read_csv(\"/content/gdrive/My Drive/data/angelcs/amazon_reviews.csv\")\n",
    "review.head()"
   ]
  },
  {
   "cell_type": "code",
   "execution_count": 0,
   "metadata": {
    "colab": {},
    "colab_type": "code",
    "id": "l5JuPEz9hose"
   },
   "outputs": [],
   "source": [
    "review_x = np.asarray(review['reviews.text'], dtype='object')\n",
    "review_x = [norm(str(x)) for x in review_x]\n",
    "review_x = pad_sequences(review_x, maxlen=max_length, padding='pre')"
   ]
  },
  {
   "cell_type": "code",
   "execution_count": 0,
   "metadata": {
    "colab": {},
    "colab_type": "code",
    "id": "Dydfn1Kghz5w"
   },
   "outputs": [],
   "source": [
    "p = model.predict(review_x)"
   ]
  },
  {
   "cell_type": "code",
   "execution_count": 0,
   "metadata": {
    "colab": {},
    "colab_type": "code",
    "id": "uMTkZD5viYP5"
   },
   "outputs": [],
   "source": [
    "p_result = [(review.loc[i, 'reviews.text'], prob[0]) for i, prob in enumerate(p)]\n",
    "  "
   ]
  },
  {
   "cell_type": "code",
   "execution_count": 0,
   "metadata": {
    "colab": {
     "base_uri": "https://localhost:8080/",
     "height": 197
    },
    "colab_type": "code",
    "id": "ivfGIuypjIME",
    "outputId": "6f7bc629-a0b9-4837-c81f-806f1d2a251b"
   },
   "outputs": [
    {
     "data": {
      "text/html": [
       "<div>\n",
       "<style scoped>\n",
       "    .dataframe tbody tr th:only-of-type {\n",
       "        vertical-align: middle;\n",
       "    }\n",
       "\n",
       "    .dataframe tbody tr th {\n",
       "        vertical-align: top;\n",
       "    }\n",
       "\n",
       "    .dataframe thead th {\n",
       "        text-align: right;\n",
       "    }\n",
       "</style>\n",
       "<table border=\"1\" class=\"dataframe\">\n",
       "  <thead>\n",
       "    <tr style=\"text-align: right;\">\n",
       "      <th></th>\n",
       "      <th>Text</th>\n",
       "      <th>Prob</th>\n",
       "    </tr>\n",
       "  </thead>\n",
       "  <tbody>\n",
       "    <tr>\n",
       "      <th>0</th>\n",
       "      <td>This product so far has not disappointed. My c...</td>\n",
       "      <td>2.845225e-02</td>\n",
       "    </tr>\n",
       "    <tr>\n",
       "      <th>1</th>\n",
       "      <td>great for beginner or experienced person. Boug...</td>\n",
       "      <td>5.737841e-04</td>\n",
       "    </tr>\n",
       "    <tr>\n",
       "      <th>2</th>\n",
       "      <td>Inexpensive tablet for him to use and learn on...</td>\n",
       "      <td>5.173683e-05</td>\n",
       "    </tr>\n",
       "    <tr>\n",
       "      <th>3</th>\n",
       "      <td>I've had my Fire HD 8 two weeks now and I love...</td>\n",
       "      <td>0.000000e+00</td>\n",
       "    </tr>\n",
       "    <tr>\n",
       "      <th>4</th>\n",
       "      <td>I bought this for my grand daughter when she c...</td>\n",
       "      <td>4.768372e-07</td>\n",
       "    </tr>\n",
       "  </tbody>\n",
       "</table>\n",
       "</div>"
      ],
      "text/plain": [
       "                                                Text          Prob\n",
       "0  This product so far has not disappointed. My c...  2.845225e-02\n",
       "1  great for beginner or experienced person. Boug...  5.737841e-04\n",
       "2  Inexpensive tablet for him to use and learn on...  5.173683e-05\n",
       "3  I've had my Fire HD 8 two weeks now and I love...  0.000000e+00\n",
       "4  I bought this for my grand daughter when she c...  4.768372e-07"
      ]
     },
     "execution_count": 193,
     "metadata": {
      "tags": []
     },
     "output_type": "execute_result"
    }
   ],
   "source": [
    "p_result_df = pd.DataFrame(p_result, columns=[\"Text\",\"Prob\"])\n",
    "p_result_df.head()"
   ]
  },
  {
   "cell_type": "code",
   "execution_count": 0,
   "metadata": {
    "colab": {},
    "colab_type": "code",
    "id": "8xIJJqEokCIJ"
   },
   "outputs": [],
   "source": [
    "p_result_df.to_csv(\"/content/gdrive/My Drive/data/angelcs/amazon_reviews_prediction.csv\")"
   ]
  },
  {
   "cell_type": "code",
   "execution_count": 0,
   "metadata": {
    "colab": {},
    "colab_type": "code",
    "id": "byFZAPa9kNUh"
   },
   "outputs": [],
   "source": []
  }
 ],
 "metadata": {
  "colab": {
   "name": "cyber-trolls-classification.ipynb",
   "provenance": []
  },
  "kernelspec": {
   "display_name": "Python 3",
   "language": "python",
   "name": "python3"
  },
  "language_info": {
   "codemirror_mode": {
    "name": "ipython",
    "version": 3
   },
   "file_extension": ".py",
   "mimetype": "text/x-python",
   "name": "python",
   "nbconvert_exporter": "python",
   "pygments_lexer": "ipython3",
   "version": "3.6.4"
  }
 },
 "nbformat": 4,
 "nbformat_minor": 1
}
