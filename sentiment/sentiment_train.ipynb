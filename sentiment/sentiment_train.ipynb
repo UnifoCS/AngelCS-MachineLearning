{
 "cells": [
  {
   "cell_type": "code",
   "execution_count": 1,
   "metadata": {},
   "outputs": [],
   "source": [
    "%matplotlib inline"
   ]
  },
  {
   "cell_type": "code",
   "execution_count": 2,
   "metadata": {},
   "outputs": [],
   "source": [
    "import tensorflow as tf\n",
    "from tensorflow.keras import Model, Sequential\n",
    "from tensorflow.keras.layers import Dense, GlobalAveragePooling1D, Embedding, Conv1D, MaxPool1D, Dropout\n",
    "from tensorflow.keras.utils import to_categorical\n",
    "from tensorflow.keras.callbacks import EarlyStopping\n",
    "import pandas as pd\n",
    "import numpy as np"
   ]
  },
  {
   "cell_type": "code",
   "execution_count": 3,
   "metadata": {},
   "outputs": [],
   "source": [
    "MAX_SEQ = 256"
   ]
  },
  {
   "cell_type": "code",
   "execution_count": 4,
   "metadata": {},
   "outputs": [],
   "source": [
    "train = pd.read_csv('data/sample_train.csv', header=None)\n",
    "test = pd.read_csv('data/sample_test.csv', header=None)\n",
    "\n",
    "# train_X = train.pos\n",
    "# train_y = train[1:]"
   ]
  },
  {
   "cell_type": "code",
   "execution_count": 5,
   "metadata": {},
   "outputs": [
    {
     "data": {
      "text/html": [
       "<div>\n",
       "<style scoped>\n",
       "    .dataframe tbody tr th:only-of-type {\n",
       "        vertical-align: middle;\n",
       "    }\n",
       "\n",
       "    .dataframe tbody tr th {\n",
       "        vertical-align: top;\n",
       "    }\n",
       "\n",
       "    .dataframe thead th {\n",
       "        text-align: right;\n",
       "    }\n",
       "</style>\n",
       "<table border=\"1\" class=\"dataframe\">\n",
       "  <thead>\n",
       "    <tr style=\"text-align: right;\">\n",
       "      <th></th>\n",
       "      <th>0</th>\n",
       "      <th>1</th>\n",
       "      <th>2</th>\n",
       "      <th>3</th>\n",
       "      <th>4</th>\n",
       "      <th>5</th>\n",
       "      <th>6</th>\n",
       "      <th>7</th>\n",
       "      <th>8</th>\n",
       "      <th>9</th>\n",
       "      <th>...</th>\n",
       "      <th>247</th>\n",
       "      <th>248</th>\n",
       "      <th>249</th>\n",
       "      <th>250</th>\n",
       "      <th>251</th>\n",
       "      <th>252</th>\n",
       "      <th>253</th>\n",
       "      <th>254</th>\n",
       "      <th>255</th>\n",
       "      <th>256</th>\n",
       "    </tr>\n",
       "  </thead>\n",
       "  <tbody>\n",
       "    <tr>\n",
       "      <th>0</th>\n",
       "      <td>nat</td>\n",
       "      <td>9</td>\n",
       "      <td>19</td>\n",
       "      <td>32</td>\n",
       "      <td>1</td>\n",
       "      <td>20</td>\n",
       "      <td>37</td>\n",
       "      <td>1</td>\n",
       "      <td>17</td>\n",
       "      <td>6</td>\n",
       "      <td>...</td>\n",
       "      <td>0</td>\n",
       "      <td>0</td>\n",
       "      <td>0</td>\n",
       "      <td>0</td>\n",
       "      <td>0</td>\n",
       "      <td>0</td>\n",
       "      <td>0</td>\n",
       "      <td>0</td>\n",
       "      <td>0</td>\n",
       "      <td>0</td>\n",
       "    </tr>\n",
       "    <tr>\n",
       "      <th>1</th>\n",
       "      <td>neg</td>\n",
       "      <td>2</td>\n",
       "      <td>331</td>\n",
       "      <td>85</td>\n",
       "      <td>11</td>\n",
       "      <td>1</td>\n",
       "      <td>141</td>\n",
       "      <td>125</td>\n",
       "      <td>38</td>\n",
       "      <td>8</td>\n",
       "      <td>...</td>\n",
       "      <td>0</td>\n",
       "      <td>0</td>\n",
       "      <td>0</td>\n",
       "      <td>0</td>\n",
       "      <td>0</td>\n",
       "      <td>0</td>\n",
       "      <td>0</td>\n",
       "      <td>0</td>\n",
       "      <td>0</td>\n",
       "      <td>0</td>\n",
       "    </tr>\n",
       "    <tr>\n",
       "      <th>2</th>\n",
       "      <td>pos</td>\n",
       "      <td>20</td>\n",
       "      <td>37</td>\n",
       "      <td>17</td>\n",
       "      <td>5</td>\n",
       "      <td>1</td>\n",
       "      <td>231</td>\n",
       "      <td>9</td>\n",
       "      <td>1</td>\n",
       "      <td>24</td>\n",
       "      <td>...</td>\n",
       "      <td>0</td>\n",
       "      <td>0</td>\n",
       "      <td>0</td>\n",
       "      <td>0</td>\n",
       "      <td>0</td>\n",
       "      <td>0</td>\n",
       "      <td>0</td>\n",
       "      <td>0</td>\n",
       "      <td>0</td>\n",
       "      <td>0</td>\n",
       "    </tr>\n",
       "    <tr>\n",
       "      <th>3</th>\n",
       "      <td>neg</td>\n",
       "      <td>25</td>\n",
       "      <td>177</td>\n",
       "      <td>1</td>\n",
       "      <td>253</td>\n",
       "      <td>79</td>\n",
       "      <td>28</td>\n",
       "      <td>7</td>\n",
       "      <td>1</td>\n",
       "      <td>7</td>\n",
       "      <td>...</td>\n",
       "      <td>6</td>\n",
       "      <td>577</td>\n",
       "      <td>47</td>\n",
       "      <td>29</td>\n",
       "      <td>1</td>\n",
       "      <td>11</td>\n",
       "      <td>6</td>\n",
       "      <td>1</td>\n",
       "      <td>577</td>\n",
       "      <td>33</td>\n",
       "    </tr>\n",
       "    <tr>\n",
       "      <th>4</th>\n",
       "      <td>nat</td>\n",
       "      <td>103</td>\n",
       "      <td>151</td>\n",
       "      <td>1</td>\n",
       "      <td>108</td>\n",
       "      <td>42</td>\n",
       "      <td>1</td>\n",
       "      <td>94</td>\n",
       "      <td>6</td>\n",
       "      <td>13</td>\n",
       "      <td>...</td>\n",
       "      <td>0</td>\n",
       "      <td>0</td>\n",
       "      <td>0</td>\n",
       "      <td>0</td>\n",
       "      <td>0</td>\n",
       "      <td>0</td>\n",
       "      <td>0</td>\n",
       "      <td>0</td>\n",
       "      <td>0</td>\n",
       "      <td>0</td>\n",
       "    </tr>\n",
       "  </tbody>\n",
       "</table>\n",
       "<p>5 rows × 257 columns</p>\n",
       "</div>"
      ],
      "text/plain": [
       "   0    1    2    3    4    5    6    7    8    9    ...  247  248  249  250  \\\n",
       "0  nat    9   19   32    1   20   37    1   17    6  ...    0    0    0    0   \n",
       "1  neg    2  331   85   11    1  141  125   38    8  ...    0    0    0    0   \n",
       "2  pos   20   37   17    5    1  231    9    1   24  ...    0    0    0    0   \n",
       "3  neg   25  177    1  253   79   28    7    1    7  ...    6  577   47   29   \n",
       "4  nat  103  151    1  108   42    1   94    6   13  ...    0    0    0    0   \n",
       "\n",
       "   251  252  253  254  255  256  \n",
       "0    0    0    0    0    0    0  \n",
       "1    0    0    0    0    0    0  \n",
       "2    0    0    0    0    0    0  \n",
       "3    1   11    6    1  577   33  \n",
       "4    0    0    0    0    0    0  \n",
       "\n",
       "[5 rows x 257 columns]"
      ]
     },
     "execution_count": 5,
     "metadata": {},
     "output_type": "execute_result"
    }
   ],
   "source": [
    "train.head()"
   ]
  },
  {
   "cell_type": "code",
   "execution_count": 6,
   "metadata": {},
   "outputs": [],
   "source": [
    "label2cat = {\n",
    "    'pos': [1, 0, 0],\n",
    "    'neg': [0, 1, 0],\n",
    "    'nat': [0, 0, 1]\n",
    "}\n",
    "\n",
    "def label_to_category(label):\n",
    "    return label2cat[label]\n",
    "\n",
    "train_X = train.iloc[:, 1:].to_numpy()\n",
    "train_y = np.array([label2cat[x] for x in train[0].to_numpy()])\n",
    "test_X = test.iloc[:, 1:].to_numpy()\n",
    "test_y = np.array([label2cat[x] for x in test[0].to_numpy()])"
   ]
  },
  {
   "cell_type": "code",
   "execution_count": 57,
   "metadata": {},
   "outputs": [
    {
     "data": {
      "text/plain": [
       "array([[0, 0, 1],\n",
       "       [0, 1, 0],\n",
       "       [1, 0, 0],\n",
       "       ...,\n",
       "       [0, 0, 1],\n",
       "       [1, 0, 0],\n",
       "       [0, 0, 1]])"
      ]
     },
     "execution_count": 57,
     "metadata": {},
     "output_type": "execute_result"
    }
   ],
   "source": [
    "train_y"
   ]
  },
  {
   "cell_type": "code",
   "execution_count": null,
   "metadata": {},
   "outputs": [],
   "source": [
    "model = tf.keras.models.model_from_json()"
   ]
  },
  {
   "cell_type": "code",
   "execution_count": 62,
   "metadata": {},
   "outputs": [
    {
     "name": "stdout",
     "output_type": "stream",
     "text": [
      "_________________________________________________________________\n",
      "Layer (type)                 Output Shape              Param #   \n",
      "=================================================================\n",
      "embedding_9 (Embedding)      (None, 256, 64)           192000    \n",
      "_________________________________________________________________\n",
      "conv1d_1 (Conv1D)            (None, 250, 128)          57472     \n",
      "_________________________________________________________________\n",
      "max_pooling1d_1 (MaxPooling1 (None, 83, 128)           0         \n",
      "_________________________________________________________________\n",
      "dropout_1 (Dropout)          (None, 83, 128)           0         \n",
      "_________________________________________________________________\n",
      "conv1d_2 (Conv1D)            (None, 77, 128)           114816    \n",
      "_________________________________________________________________\n",
      "max_pooling1d_2 (MaxPooling1 (None, 25, 128)           0         \n",
      "_________________________________________________________________\n",
      "dropout_2 (Dropout)          (None, 25, 128)           0         \n",
      "_________________________________________________________________\n",
      "conv1d_3 (Conv1D)            (None, 23, 128)           49280     \n",
      "_________________________________________________________________\n",
      "max_pooling1d_3 (MaxPooling1 (None, 7, 128)            0         \n",
      "_________________________________________________________________\n",
      "dropout_3 (Dropout)          (None, 7, 128)            0         \n",
      "_________________________________________________________________\n",
      "global_average_pooling1d_9 ( (None, 128)               0         \n",
      "_________________________________________________________________\n",
      "dense_9 (Dense)              (None, 128)               16512     \n",
      "_________________________________________________________________\n",
      "dropout_4 (Dropout)          (None, 128)               0         \n",
      "_________________________________________________________________\n",
      "dense_10 (Dense)             (None, 128)               16512     \n",
      "_________________________________________________________________\n",
      "dropout_5 (Dropout)          (None, 128)               0         \n",
      "_________________________________________________________________\n",
      "dense_11 (Dense)             (None, 128)               16512     \n",
      "_________________________________________________________________\n",
      "dense_12 (Dense)             (None, 3)                 387       \n",
      "=================================================================\n",
      "Total params: 463,491\n",
      "Trainable params: 463,491\n",
      "Non-trainable params: 0\n",
      "_________________________________________________________________\n"
     ]
    }
   ],
   "source": [
    "model = Sequential([\n",
    "    Embedding(3000, 64, input_length=256),\n",
    "    \n",
    "    Conv1D(128, 7, activation='relu', padding='valid'),\n",
    "    MaxPool1D(pool_size=3),\n",
    "    Dropout(0.1),\n",
    "    \n",
    "    Conv1D(128, 7, activation='relu', padding='valid'),\n",
    "    MaxPool1D(pool_size=3),\n",
    "    Dropout(0.1),\n",
    "    \n",
    "    Conv1D(128, 3, activation='relu', padding='valid'),\n",
    "    MaxPool1D(pool_size=3),\n",
    "    Dropout(0.1),\n",
    "    \n",
    "    GlobalAveragePooling1D(),\n",
    "    Dense(128, activation='relu'),\n",
    "    Dropout(0.1),\n",
    "    Dense(128, activation='relu'),\n",
    "    Dropout(0.1),\n",
    "    Dense(128, activation='relu'),\n",
    "    Dense(3, activation='softmax')\n",
    "])\n",
    "model.compile(optimizer='adam', loss='categorical_crossentropy', metrics=['accuracy'])\n",
    "model.summary()"
   ]
  },
  {
   "cell_type": "code",
   "execution_count": 63,
   "metadata": {
    "scrolled": true
   },
   "outputs": [
    {
     "name": "stderr",
     "output_type": "stream",
     "text": [
      "D:\\ProgramData\\Anaconda3\\envs\\tensorflow\\lib\\site-packages\\tensorflow\\python\\ops\\gradients_impl.py:112: UserWarning: Converting sparse IndexedSlices to a dense Tensor of unknown shape. This may consume a large amount of memory.\n",
      "  \"Converting sparse IndexedSlices to a dense Tensor of unknown shape. \"\n"
     ]
    },
    {
     "name": "stdout",
     "output_type": "stream",
     "text": [
      "Train on 189541 samples, validate on 96945 samples\n",
      "Epoch 1/30\n",
      "189541/189541 [==============================] - 49s 260us/step - loss: 0.7602 - acc: 0.6679 - val_loss: 0.5540 - val_acc: 0.8028\n",
      "Epoch 2/30\n",
      "189541/189541 [==============================] - 46s 242us/step - loss: 0.4499 - acc: 0.8472 - val_loss: 0.3498 - val_acc: 0.8863\n",
      "Epoch 3/30\n",
      "189541/189541 [==============================] - 46s 240us/step - loss: 0.2924 - acc: 0.9060 - val_loss: 0.2434 - val_acc: 0.9198\n",
      "Epoch 4/30\n",
      "189541/189541 [==============================] - 46s 240us/step - loss: 0.2074 - acc: 0.9331 - val_loss: 0.1868 - val_acc: 0.9403\n",
      "Epoch 5/30\n",
      "189541/189541 [==============================] - 46s 240us/step - loss: 0.1664 - acc: 0.9459 - val_loss: 0.1944 - val_acc: 0.9374\n",
      "Epoch 6/30\n",
      "189541/189541 [==============================] - 45s 240us/step - loss: 0.1380 - acc: 0.9554 - val_loss: 0.1436 - val_acc: 0.9566\n",
      "Epoch 7/30\n",
      "189541/189541 [==============================] - 46s 241us/step - loss: 0.1172 - acc: 0.9620 - val_loss: 0.1148 - val_acc: 0.9658\n",
      "Epoch 8/30\n",
      "189541/189541 [==============================] - 46s 241us/step - loss: 0.1026 - acc: 0.9666 - val_loss: 0.1083 - val_acc: 0.9687\n",
      "Epoch 9/30\n",
      "189541/189541 [==============================] - 45s 240us/step - loss: 0.0911 - acc: 0.9701 - val_loss: 0.0953 - val_acc: 0.9739\n",
      "Epoch 10/30\n",
      "189541/189541 [==============================] - 45s 240us/step - loss: 0.0787 - acc: 0.9740 - val_loss: 0.0922 - val_acc: 0.9750\n",
      "Epoch 11/30\n",
      "189541/189541 [==============================] - 45s 240us/step - loss: 0.0712 - acc: 0.9764 - val_loss: 0.0859 - val_acc: 0.9777\n",
      "Epoch 12/30\n",
      "189541/189541 [==============================] - 45s 239us/step - loss: 0.0653 - acc: 0.9782 - val_loss: 0.0908 - val_acc: 0.9771\n",
      "Epoch 13/30\n",
      "189541/189541 [==============================] - 45s 240us/step - loss: 0.0612 - acc: 0.9793 - val_loss: 0.0915 - val_acc: 0.9749\n",
      "Epoch 14/30\n",
      "189541/189541 [==============================] - 46s 240us/step - loss: 0.0586 - acc: 0.9800 - val_loss: 0.0767 - val_acc: 0.9805\n",
      "Epoch 15/30\n",
      "189541/189541 [==============================] - 46s 240us/step - loss: 0.0527 - acc: 0.9822 - val_loss: 0.0796 - val_acc: 0.9809\n",
      "Epoch 16/30\n",
      "189541/189541 [==============================] - 45s 240us/step - loss: 0.0520 - acc: 0.9820 - val_loss: 0.0835 - val_acc: 0.9809\n",
      "Epoch 17/30\n",
      "189541/189541 [==============================] - 45s 240us/step - loss: 0.0496 - acc: 0.9829 - val_loss: 0.0837 - val_acc: 0.9814\n",
      "Epoch 18/30\n",
      "189541/189541 [==============================] - 45s 240us/step - loss: 0.0463 - acc: 0.9841 - val_loss: 0.0923 - val_acc: 0.9801\n",
      "Epoch 19/30\n",
      "189541/189541 [==============================] - 45s 239us/step - loss: 0.0438 - acc: 0.9850 - val_loss: 0.0947 - val_acc: 0.9793\n",
      "Epoch 20/30\n",
      "189541/189541 [==============================] - 45s 240us/step - loss: 0.0425 - acc: 0.9853 - val_loss: 0.0915 - val_acc: 0.9813\n",
      "Epoch 21/30\n",
      "189541/189541 [==============================] - 46s 240us/step - loss: 0.0430 - acc: 0.9850 - val_loss: 0.0864 - val_acc: 0.9806\n",
      "Epoch 22/30\n",
      "189541/189541 [==============================] - 49s 257us/step - loss: 0.0391 - acc: 0.9863 - val_loss: 0.0837 - val_acc: 0.9814\n",
      "Epoch 23/30\n",
      "189541/189541 [==============================] - 45s 239us/step - loss: 0.0395 - acc: 0.9863 - val_loss: 0.0875 - val_acc: 0.9830\n",
      "Epoch 24/30\n",
      "189541/189541 [==============================] - 46s 240us/step - loss: 0.0388 - acc: 0.9866 - val_loss: 0.0861 - val_acc: 0.9822\n",
      "Epoch 25/30\n",
      "189541/189541 [==============================] - 46s 241us/step - loss: 0.0366 - acc: 0.9874 - val_loss: 0.0784 - val_acc: 0.9826\n",
      "Epoch 26/30\n",
      "189541/189541 [==============================] - 46s 243us/step - loss: 0.0351 - acc: 0.9876 - val_loss: 0.0759 - val_acc: 0.9834\n",
      "Epoch 27/30\n",
      "189541/189541 [==============================] - 45s 238us/step - loss: 0.0358 - acc: 0.9874 - val_loss: 0.0794 - val_acc: 0.9836\n",
      "Epoch 28/30\n",
      "189541/189541 [==============================] - 46s 241us/step - loss: 0.0340 - acc: 0.9881 - val_loss: 0.0802 - val_acc: 0.9831\n",
      "Epoch 29/30\n",
      "189541/189541 [==============================] - 46s 241us/step - loss: 0.0339 - acc: 0.9880 - val_loss: 0.0852 - val_acc: 0.9834\n",
      "Epoch 30/30\n",
      "189541/189541 [==============================] - 47s 250us/step - loss: 0.0328 - acc: 0.9883 - val_loss: 0.0786 - val_acc: 0.9832\n"
     ]
    }
   ],
   "source": [
    "es = EarlyStopping(monitor='val_loss', mode='min', baseline=0.4)\n",
    "hist = model.fit(train_X, train_y, verbose=1, batch_size=256, epochs=30, validation_data=(test_X, test_y),\n",
    "                callbacks=[es])"
   ]
  },
  {
   "cell_type": "code",
   "execution_count": 64,
   "metadata": {},
   "outputs": [
    {
     "name": "stdout",
     "output_type": "stream",
     "text": [
      "96945/96945 [==============================] - 12s 123us/step\n"
     ]
    },
    {
     "data": {
      "text/plain": [
       "[0.07858159147805718, 0.9831657125174068]"
      ]
     },
     "execution_count": 64,
     "metadata": {},
     "output_type": "execute_result"
    }
   ],
   "source": [
    "model.evaluate(test_X, test_y)"
   ]
  },
  {
   "cell_type": "code",
   "execution_count": 68,
   "metadata": {},
   "outputs": [
    {
     "data": {
      "image/png": "[encoded data removed]",
      "text/plain": [
       "<Figure size 432x288 with 2 Axes>"
      ]
     },
     "metadata": {
      "needs_background": "light"
     },
     "output_type": "display_data"
    }
   ],
   "source": [
    "import matplotlib.pyplot as plt\n",
    "\n",
    "fig, loss_ax = plt.subplots()\n",
    "acc_ax = loss_ax.twinx()\n",
    "\n",
    "loss_ax.plot(hist.history['loss'], 'y', label='train loss')\n",
    "loss_ax.plot(hist.history['val_loss'], 'r', label='val loss')\n",
    "loss_ax.set_xlabel('epoch')\n",
    "loss_ax.set_ylabel('loss')\n",
    "loss_ax.legend(loc='upper left')\n",
    "\n",
    "acc_ax.plot(hist.history['acc'], 'b', label='train acc')\n",
    "acc_ax.plot(hist.history['val_acc'], 'g', label='val acc')\n",
    "acc_ax.set_ylabel('accuracy')\n",
    "acc_ax.legend(loc='lower left')\n",
    "\n",
    "plt.show()"
   ]
  },
  {
   "cell_type": "code",
   "execution_count": 66,
   "metadata": {},
   "outputs": [
    {
     "name": "stdout",
     "output_type": "stream",
     "text": [
      "Saved model to disk\n"
     ]
    }
   ],
   "source": [
    "model_json = model.to_json()\n",
    "with open(\"model/model.json\", \"w\") as json_file : \n",
    "    json_file.write(model_json)\n",
    "\n",
    "model.save_weights(\"model/model.h5\")\n",
    "print(\"Saved model to disk\")"
   ]
  },
  {
   "cell_type": "code",
   "execution_count": null,
   "metadata": {},
   "outputs": [],
   "source": []
  }
 ],
 "metadata": {
  "kernelspec": {
   "display_name": "Python 3",
   "language": "python",
   "name": "python3"
  },
  "language_info": {
   "codemirror_mode": {
    "name": "ipython",
    "version": 3
   },
   "file_extension": ".py",
   "mimetype": "text/x-python",
   "name": "python",
   "nbconvert_exporter": "python",
   "pygments_lexer": "ipython3",
   "version": "3.6.8"
  }
 },
 "nbformat": 4,
 "nbformat_minor": 2
}
