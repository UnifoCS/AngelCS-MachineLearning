{
 "cells": [
  {
   "cell_type": "code",
   "execution_count": 1,
   "metadata": {},
   "outputs": [],
   "source": [
    "%matplotlib inline"
   ]
  },
  {
   "cell_type": "code",
   "execution_count": 55,
   "metadata": {},
   "outputs": [],
   "source": [
    "import tensorflow as tf\n",
    "import keras\n",
    "from tensorflow.keras import Sequential\n",
    "from tensorflow.keras.layers import Dense, Dropout, Embedding, Conv1D, MaxPool1D, GlobalAveragePooling1D\n",
    "from tensorflow.keras.callbacks import EarlyStopping\n",
    "from tensorflow.keras.models import model_from_json\n",
    "import pandas as pd\n",
    "import numpy as np\n",
    "import json"
   ]
  },
  {
   "cell_type": "code",
   "execution_count": 18,
   "metadata": {},
   "outputs": [],
   "source": [
    "train = pd.read_csv(\"data/train.csv\", header=None)\n",
    "test = pd.read_csv(\"data/test.csv\", header=None)"
   ]
  },
  {
   "cell_type": "code",
   "execution_count": 32,
   "metadata": {},
   "outputs": [],
   "source": [
    "train_X = train.iloc[:, 1:].to_numpy()\n",
    "train_y = np.array(train.iloc[:, 0].map(json.loads).tolist())\n",
    "\n",
    "test_X = test.iloc[:, 1:].to_numpy()\n",
    "test_y = np.array(test.iloc[:, 0].map(json.loads).tolist())"
   ]
  },
  {
   "cell_type": "code",
   "execution_count": 34,
   "metadata": {},
   "outputs": [
    {
     "data": {
      "text/plain": [
       "array([[1, 0],\n",
       "       [1, 0],\n",
       "       [0, 1],\n",
       "       ...,\n",
       "       [1, 0],\n",
       "       [1, 0],\n",
       "       [1, 0]])"
      ]
     },
     "execution_count": 34,
     "metadata": {},
     "output_type": "execute_result"
    }
   ],
   "source": [
    "test_y"
   ]
  },
  {
   "cell_type": "code",
   "execution_count": 49,
   "metadata": {},
   "outputs": [],
   "source": []
  },
  {
   "cell_type": "code",
   "execution_count": 71,
   "metadata": {
    "scrolled": true
   },
   "outputs": [
    {
     "name": "stdout",
     "output_type": "stream",
     "text": [
      "_________________________________________________________________\n",
      "Layer (type)                 Output Shape              Param #   \n",
      "=================================================================\n",
      "embedding_9 (Embedding)      (None, 256, 64)           192000    \n",
      "_________________________________________________________________\n",
      "conv1d_1 (Conv1D)            (None, 250, 128)          57472     \n",
      "_________________________________________________________________\n",
      "max_pooling1d_1 (MaxPooling1 (None, 83, 128)           0         \n",
      "_________________________________________________________________\n",
      "dropout_1 (Dropout)          (None, 83, 128)           0         \n",
      "_________________________________________________________________\n",
      "conv1d_2 (Conv1D)            (None, 77, 128)           114816    \n",
      "_________________________________________________________________\n",
      "max_pooling1d_2 (MaxPooling1 (None, 25, 128)           0         \n",
      "_________________________________________________________________\n",
      "dropout_2 (Dropout)          (None, 25, 128)           0         \n",
      "_________________________________________________________________\n",
      "conv1d_3 (Conv1D)            (None, 23, 128)           49280     \n",
      "_________________________________________________________________\n",
      "max_pooling1d_3 (MaxPooling1 (None, 7, 128)            0         \n",
      "_________________________________________________________________\n",
      "dropout_3 (Dropout)          (None, 7, 128)            0         \n",
      "_________________________________________________________________\n",
      "global_average_pooling1d_9 ( (None, 128)               0         \n",
      "_________________________________________________________________\n",
      "dense_9 (Dense)              (None, 128)               16512     \n",
      "_________________________________________________________________\n",
      "dropout_4 (Dropout)          (None, 128)               0         \n",
      "_________________________________________________________________\n",
      "dense_10 (Dense)             (None, 128)               16512     \n",
      "_________________________________________________________________\n",
      "dropout_5 (Dropout)          (None, 128)               0         \n",
      "_________________________________________________________________\n",
      "dense_11 (Dense)             (None, 128)               16512     \n",
      "_________________________________________________________________\n",
      "dense_15 (Dense)             (None, 2)                 258       \n",
      "=================================================================\n",
      "Total params: 463,362\n",
      "Trainable params: 463,362\n",
      "Non-trainable params: 0\n",
      "_________________________________________________________________\n"
     ]
    }
   ],
   "source": [
    "def model_from_sentiment():\n",
    "    with open(\"../sentiment/model/model.json\") as f:\n",
    "        model = model_from_json(f.read())\n",
    "        model.load_weights(\"../sentiment/model/model.h5\")\n",
    "        \n",
    "    layers = model.layers\n",
    "    layers.pop()\n",
    "    layers.append(Dense(2, activation=\"softmax\"))\n",
    "    \n",
    "    model = Sequential(layers)\n",
    "    return model\n",
    "\n",
    "def model_from_scratch():\n",
    "    model = Sequential([\n",
    "        Embedding(3000, 64, input_length=256),\n",
    "\n",
    "        Conv1D(128, 7, activation='relu', padding='valid'),\n",
    "        MaxPool1D(pool_size=3),\n",
    "        Dropout(0.1),\n",
    "\n",
    "        Conv1D(128, 7, activation='relu', padding='valid'),\n",
    "        MaxPool1D(pool_size=3),\n",
    "        Dropout(0.1),\n",
    "\n",
    "        Conv1D(128, 3, activation='relu', padding='valid'),\n",
    "        MaxPool1D(pool_size=3),\n",
    "        Dropout(0.1),\n",
    "\n",
    "        GlobalAveragePooling1D(),\n",
    "        Dense(128, activation='relu'),\n",
    "        Dropout(0.1),\n",
    "        Dense(128, activation='relu'),\n",
    "        Dropout(0.1),\n",
    "        Dense(128, activation='relu'),\n",
    "        Dense(2, activation='softmax')\n",
    "    ])\n",
    "    \n",
    "    return model\n",
    "\n",
    "# model = model_from_scratch()\n",
    "model = model_from_sentiment()\n",
    "model.compile(optimizer=\"adam\", loss=\"categorical_crossentropy\", metrics=['accuracy'])    \n",
    "model.summary()"
   ]
  },
  {
   "cell_type": "code",
   "execution_count": 75,
   "metadata": {
    "scrolled": true
   },
   "outputs": [
    {
     "name": "stdout",
     "output_type": "stream",
     "text": [
      "Train on 2010 samples, validate on 600 samples\n",
      "Epoch 1/30\n",
      "2010/2010 [==============================] - 1s 492us/step - loss: 0.0145 - acc: 0.9975 - val_loss: 0.8118 - val_acc: 0.8517\n",
      "Epoch 2/30\n",
      "2010/2010 [==============================] - 1s 442us/step - loss: 0.0023 - acc: 1.0000 - val_loss: 0.9821 - val_acc: 0.8467\n",
      "Epoch 3/30\n",
      "2010/2010 [==============================] - 1s 462us/step - loss: 0.0024 - acc: 0.9995 - val_loss: 1.1535 - val_acc: 0.8550\n",
      "Epoch 4/30\n",
      "2010/2010 [==============================] - 1s 447us/step - loss: 0.0021 - acc: 0.9990 - val_loss: 1.1248 - val_acc: 0.8467\n",
      "Epoch 5/30\n",
      "2010/2010 [==============================] - 1s 473us/step - loss: 0.0316 - acc: 0.9905 - val_loss: 1.0934 - val_acc: 0.8250\n",
      "Epoch 6/30\n",
      "2010/2010 [==============================] - 1s 489us/step - loss: 0.0355 - acc: 0.9905 - val_loss: 0.6467 - val_acc: 0.8433\n",
      "Epoch 7/30\n",
      "2010/2010 [==============================] - 1s 449us/step - loss: 0.0082 - acc: 0.9970 - val_loss: 0.7324 - val_acc: 0.8583\n",
      "Epoch 8/30\n",
      "2010/2010 [==============================] - 1s 454us/step - loss: 0.0040 - acc: 0.9985 - val_loss: 0.8604 - val_acc: 0.8517\n",
      "Epoch 9/30\n",
      "2010/2010 [==============================] - 1s 457us/step - loss: 0.0117 - acc: 0.9970 - val_loss: 0.7954 - val_acc: 0.8500\n",
      "Epoch 10/30\n",
      "2010/2010 [==============================] - 1s 450us/step - loss: 0.0076 - acc: 0.9975 - val_loss: 0.9504 - val_acc: 0.8367\n",
      "Epoch 11/30\n",
      "2010/2010 [==============================] - 1s 450us/step - loss: 0.0046 - acc: 0.9980 - val_loss: 0.8917 - val_acc: 0.8533\n",
      "Epoch 12/30\n",
      "2010/2010 [==============================] - 1s 473us/step - loss: 0.0027 - acc: 0.9990 - val_loss: 1.0815 - val_acc: 0.8467\n",
      "Epoch 13/30\n",
      "2010/2010 [==============================] - 1s 480us/step - loss: 0.0047 - acc: 0.9975 - val_loss: 1.0493 - val_acc: 0.8300\n",
      "Epoch 14/30\n",
      "2010/2010 [==============================] - 1s 459us/step - loss: 0.0119 - acc: 0.9970 - val_loss: 1.0321 - val_acc: 0.8467\n",
      "Epoch 15/30\n",
      "2010/2010 [==============================] - 1s 456us/step - loss: 0.0127 - acc: 0.9955 - val_loss: 1.1237 - val_acc: 0.8550\n",
      "Epoch 16/30\n",
      "2010/2010 [==============================] - 1s 480us/step - loss: 0.0224 - acc: 0.9960 - val_loss: 0.9788 - val_acc: 0.8567\n",
      "Epoch 00016: early stopping\n"
     ]
    }
   ],
   "source": [
    "es = EarlyStopping(monitor='val_loss', verbose=1, patience=10)\n",
    "\n",
    "hist = model.fit(train_X, train_y, epochs=30, verbose=1, callbacks=[es], validation_data=(test_X, test_y))"
   ]
  },
  {
   "cell_type": "code",
   "execution_count": 76,
   "metadata": {},
   "outputs": [
    {
     "name": "stdout",
     "output_type": "stream",
     "text": [
      "600/600 [==============================] - 0s 170us/step\n"
     ]
    },
    {
     "data": {
      "text/plain": [
       "[0.9788491185506185, 0.8566666666666667]"
      ]
     },
     "execution_count": 76,
     "metadata": {},
     "output_type": "execute_result"
    }
   ],
   "source": [
    "model.evaluate(test_X, test_y)"
   ]
  },
  {
   "cell_type": "code",
   "execution_count": 77,
   "metadata": {},
   "outputs": [
    {
     "data": {
      "image/png": "[encoded data removed]",
      "text/plain": [
       "<Figure size 432x288 with 2 Axes>"
      ]
     },
     "metadata": {
      "needs_background": "light"
     },
     "output_type": "display_data"
    }
   ],
   "source": [
    "import matplotlib.pyplot as plt\n",
    "\n",
    "fig, loss_ax = plt.subplots()\n",
    "acc_ax = loss_ax.twinx()\n",
    "\n",
    "loss_ax.plot(hist.history['loss'], 'y', label='train loss')\n",
    "loss_ax.plot(hist.history['val_loss'], 'r', label='val loss')\n",
    "loss_ax.set_xlabel('epoch')\n",
    "loss_ax.set_ylabel('loss')\n",
    "loss_ax.legend(loc='upper left')\n",
    "\n",
    "acc_ax.plot(hist.history['acc'], 'b', label='train acc')\n",
    "acc_ax.plot(hist.history['val_acc'], 'g', label='val acc')\n",
    "acc_ax.set_ylabel('accuracy')\n",
    "acc_ax.legend(loc='lower left')\n",
    "\n",
    "plt.show()"
   ]
  }
 ],
 "metadata": {
  "kernelspec": {
   "display_name": "Python 3",
   "language": "python",
   "name": "python3"
  },
  "language_info": {
   "codemirror_mode": {
    "name": "ipython",
    "version": 3
   },
   "file_extension": ".py",
   "mimetype": "text/x-python",
   "name": "python",
   "nbconvert_exporter": "python",
   "pygments_lexer": "ipython3",
   "version": "3.6.8"
  }
 },
 "nbformat": 4,
 "nbformat_minor": 2
}
